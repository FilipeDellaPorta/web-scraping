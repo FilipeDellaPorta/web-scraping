{
  "nbformat": 4,
  "nbformat_minor": 0,
  "metadata": {
    "colab": {
      "provenance": [],
      "authorship_tag": "ABX9TyNzNmRw0ZRR5v5sJQFORoqx",
      "include_colab_link": true
    },
    "kernelspec": {
      "name": "python3",
      "display_name": "Python 3"
    },
    "language_info": {
      "name": "python"
    }
  },
  "cells": [
    {
      "cell_type": "markdown",
      "metadata": {
        "id": "view-in-github",
        "colab_type": "text"
      },
      "source": [
        "<a href=\"https://colab.research.google.com/github/FilipeDellaPorta/web-scraping/blob/main/web_scraping.ipynb\" target=\"_parent\"><img src=\"https://colab.research.google.com/assets/colab-badge.svg\" alt=\"Open In Colab\"/></a>"
      ]
    },
    {
      "cell_type": "markdown",
      "source": [
        "#Importando bibliotecas para o web scraping"
      ],
      "metadata": {
        "id": "RUMC4DCSdMbp"
      }
    },
    {
      "cell_type": "code",
      "execution_count": 1,
      "metadata": {
        "id": "xD8d_n--c2xl"
      },
      "outputs": [],
      "source": [
        "import requests\n",
        "from bs4 import BeautifulSoup"
      ]
    },
    {
      "cell_type": "markdown",
      "source": [
        "#Separando as urls dos sites"
      ],
      "metadata": {
        "id": "a2jFgz-_dqru"
      }
    },
    {
      "cell_type": "code",
      "source": [
        "links = [\n",
        "    'https://www.byd.com/br/car/dolphin-mini',\n",
        "    'https://www.byd.com/br/car/dolphin',\n",
        "    'https://www.byd.com/br/car/dolphin-plus'\n",
        "]"
      ],
      "metadata": {
        "id": "iyKKncg9dqS-"
      },
      "execution_count": 2,
      "outputs": []
    },
    {
      "cell_type": "markdown",
      "source": [
        "#Loop para visitar cada página e extrair os dados"
      ],
      "metadata": {
        "id": "X92B8pmveBXl"
      }
    },
    {
      "cell_type": "code",
      "source": [
        "for url in links:\n",
        "    resposta = requests.get(url)\n",
        "    sopa = BeautifulSoup(resposta.text, 'html.parser')\n",
        "\n",
        "    # Aqui você inspeciona e escolhe os seletores corretos\n",
        "    h2 = sopa.find('h2')  # Supondo que o nome do carro está nessa tag\n",
        "\n",
        "    if h2:\n",
        "      nome = h2.contents[0].strip()\n",
        "      print(f'URL: {url}')\n",
        "      print('Nome do carro:', nome if nome else 'Não encontrado')\n",
        "      print('---')"
      ],
      "metadata": {
        "colab": {
          "base_uri": "https://localhost:8080/"
        },
        "id": "spfvVW1beBGU",
        "outputId": "11fb0ef4-b1bd-48b5-a559-2a409cd6f10e"
      },
      "execution_count": 4,
      "outputs": [
        {
          "output_type": "stream",
          "name": "stdout",
          "text": [
            "URL: https://www.byd.com/br/car/dolphin-mini\n",
            "Nome do carro: BYD DOLPHIN MINI\n",
            "---\n",
            "URL: https://www.byd.com/br/car/dolphin\n",
            "Nome do carro: BYD DOLPHIN\n",
            "---\n",
            "URL: https://www.byd.com/br/car/dolphin-plus\n",
            "Nome do carro: BYD DOLPHIN PLUS\n",
            "---\n"
          ]
        }
      ]
    }
  ]
}