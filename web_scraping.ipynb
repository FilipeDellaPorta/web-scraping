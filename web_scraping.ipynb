{
  "nbformat": 4,
  "nbformat_minor": 0,
  "metadata": {
    "colab": {
      "provenance": [],
      "authorship_tag": "ABX9TyOT8s9fwMBiJRdxTQ5MzYA3",
      "include_colab_link": true
    },
    "kernelspec": {
      "name": "python3",
      "display_name": "Python 3"
    },
    "language_info": {
      "name": "python"
    }
  },
  "cells": [
    {
      "cell_type": "markdown",
      "metadata": {
        "id": "view-in-github",
        "colab_type": "text"
      },
      "source": [
        "<a href=\"https://colab.research.google.com/github/FilipeDellaPorta/web-scraping/blob/main/web_scraping.ipynb\" target=\"_parent\"><img src=\"https://colab.research.google.com/assets/colab-badge.svg\" alt=\"Open In Colab\"/></a>"
      ]
    },
    {
      "cell_type": "markdown",
      "source": [
        "#Importando bibliotecas para o web scraping"
      ],
      "metadata": {
        "id": "RUMC4DCSdMbp"
      }
    },
    {
      "cell_type": "code",
      "execution_count": 2,
      "metadata": {
        "id": "xD8d_n--c2xl"
      },
      "outputs": [],
      "source": [
        "import requests\n",
        "from bs4 import BeautifulSoup"
      ]
    },
    {
      "cell_type": "markdown",
      "source": [
        "#Separando as urls dos sites"
      ],
      "metadata": {
        "id": "a2jFgz-_dqru"
      }
    },
    {
      "cell_type": "code",
      "source": [
        "links = [\n",
        "    'https://www.byd.com/br/car/dolphin-mini',\n",
        "    'https://www.byd.com/br/car/dolphin',\n",
        "    'https://www.byd.com/br/car/dolphin-plus'\n",
        "]"
      ],
      "metadata": {
        "id": "iyKKncg9dqS-"
      },
      "execution_count": 1,
      "outputs": []
    },
    {
      "cell_type": "markdown",
      "source": [
        "#Loop para visitar cada página e extrair os dados"
      ],
      "metadata": {
        "id": "X92B8pmveBXl"
      }
    },
    {
      "cell_type": "code",
      "source": [
        "for url in links:\n",
        "    resposta = requests.get(url)\n",
        "    sopa = BeautifulSoup(resposta.text, 'html.parser')\n",
        "\n",
        "    # Aqui você inspeciona e escolhe os seletores corretos\n",
        "    h2 = sopa.find('h2')  # Supondo que o nome do carro está nessa tag\n",
        "\n",
        "    if h2:\n",
        "      nome = h2.contents[0].strip()\n",
        "      print(f'URL: {url}')\n",
        "      print('Nome do carro:', nome if nome else 'Não encontrado')\n",
        "      print('---')"
      ],
      "metadata": {
        "colab": {
          "base_uri": "https://localhost:8080/"
        },
        "id": "spfvVW1beBGU",
        "outputId": "71462ff2-569f-4f07-88ac-b0281a868f53"
      },
      "execution_count": 3,
      "outputs": [
        {
          "output_type": "stream",
          "name": "stdout",
          "text": [
            "URL: https://www.byd.com/br/car/dolphin-mini\n",
            "Nome do carro: BYD DOLPHIN MINI\n",
            "---\n",
            "URL: https://www.byd.com/br/car/dolphin\n",
            "Nome do carro: BYD DOLPHIN\n",
            "---\n",
            "URL: https://www.byd.com/br/car/dolphin-plus\n",
            "Nome do carro: BYD DOLPHIN PLUS\n",
            "---\n"
          ]
        }
      ]
    },
    {
      "cell_type": "markdown",
      "source": [
        "#Importando arquivos do pc"
      ],
      "metadata": {
        "id": "WK4x-lSVD6VB"
      }
    },
    {
      "cell_type": "code",
      "source": [
        "from google.colab import files\n",
        "uploaded = files.upload()"
      ],
      "metadata": {
        "colab": {
          "base_uri": "https://localhost:8080/",
          "height": 73
        },
        "id": "DxwIDZrvD7xQ",
        "outputId": "91c4e399-4b28-41fa-8f2b-b2b26cbc5cfb"
      },
      "execution_count": 6,
      "outputs": [
        {
          "output_type": "display_data",
          "data": {
            "text/plain": [
              "<IPython.core.display.HTML object>"
            ],
            "text/html": [
              "\n",
              "     <input type=\"file\" id=\"files-06dd836e-603c-4acd-8611-be635b34af55\" name=\"files[]\" multiple disabled\n",
              "        style=\"border:none\" />\n",
              "     <output id=\"result-06dd836e-603c-4acd-8611-be635b34af55\">\n",
              "      Upload widget is only available when the cell has been executed in the\n",
              "      current browser session. Please rerun this cell to enable.\n",
              "      </output>\n",
              "      <script>// Copyright 2017 Google LLC\n",
              "//\n",
              "// Licensed under the Apache License, Version 2.0 (the \"License\");\n",
              "// you may not use this file except in compliance with the License.\n",
              "// You may obtain a copy of the License at\n",
              "//\n",
              "//      http://www.apache.org/licenses/LICENSE-2.0\n",
              "//\n",
              "// Unless required by applicable law or agreed to in writing, software\n",
              "// distributed under the License is distributed on an \"AS IS\" BASIS,\n",
              "// WITHOUT WARRANTIES OR CONDITIONS OF ANY KIND, either express or implied.\n",
              "// See the License for the specific language governing permissions and\n",
              "// limitations under the License.\n",
              "\n",
              "/**\n",
              " * @fileoverview Helpers for google.colab Python module.\n",
              " */\n",
              "(function(scope) {\n",
              "function span(text, styleAttributes = {}) {\n",
              "  const element = document.createElement('span');\n",
              "  element.textContent = text;\n",
              "  for (const key of Object.keys(styleAttributes)) {\n",
              "    element.style[key] = styleAttributes[key];\n",
              "  }\n",
              "  return element;\n",
              "}\n",
              "\n",
              "// Max number of bytes which will be uploaded at a time.\n",
              "const MAX_PAYLOAD_SIZE = 100 * 1024;\n",
              "\n",
              "function _uploadFiles(inputId, outputId) {\n",
              "  const steps = uploadFilesStep(inputId, outputId);\n",
              "  const outputElement = document.getElementById(outputId);\n",
              "  // Cache steps on the outputElement to make it available for the next call\n",
              "  // to uploadFilesContinue from Python.\n",
              "  outputElement.steps = steps;\n",
              "\n",
              "  return _uploadFilesContinue(outputId);\n",
              "}\n",
              "\n",
              "// This is roughly an async generator (not supported in the browser yet),\n",
              "// where there are multiple asynchronous steps and the Python side is going\n",
              "// to poll for completion of each step.\n",
              "// This uses a Promise to block the python side on completion of each step,\n",
              "// then passes the result of the previous step as the input to the next step.\n",
              "function _uploadFilesContinue(outputId) {\n",
              "  const outputElement = document.getElementById(outputId);\n",
              "  const steps = outputElement.steps;\n",
              "\n",
              "  const next = steps.next(outputElement.lastPromiseValue);\n",
              "  return Promise.resolve(next.value.promise).then((value) => {\n",
              "    // Cache the last promise value to make it available to the next\n",
              "    // step of the generator.\n",
              "    outputElement.lastPromiseValue = value;\n",
              "    return next.value.response;\n",
              "  });\n",
              "}\n",
              "\n",
              "/**\n",
              " * Generator function which is called between each async step of the upload\n",
              " * process.\n",
              " * @param {string} inputId Element ID of the input file picker element.\n",
              " * @param {string} outputId Element ID of the output display.\n",
              " * @return {!Iterable<!Object>} Iterable of next steps.\n",
              " */\n",
              "function* uploadFilesStep(inputId, outputId) {\n",
              "  const inputElement = document.getElementById(inputId);\n",
              "  inputElement.disabled = false;\n",
              "\n",
              "  const outputElement = document.getElementById(outputId);\n",
              "  outputElement.innerHTML = '';\n",
              "\n",
              "  const pickedPromise = new Promise((resolve) => {\n",
              "    inputElement.addEventListener('change', (e) => {\n",
              "      resolve(e.target.files);\n",
              "    });\n",
              "  });\n",
              "\n",
              "  const cancel = document.createElement('button');\n",
              "  inputElement.parentElement.appendChild(cancel);\n",
              "  cancel.textContent = 'Cancel upload';\n",
              "  const cancelPromise = new Promise((resolve) => {\n",
              "    cancel.onclick = () => {\n",
              "      resolve(null);\n",
              "    };\n",
              "  });\n",
              "\n",
              "  // Wait for the user to pick the files.\n",
              "  const files = yield {\n",
              "    promise: Promise.race([pickedPromise, cancelPromise]),\n",
              "    response: {\n",
              "      action: 'starting',\n",
              "    }\n",
              "  };\n",
              "\n",
              "  cancel.remove();\n",
              "\n",
              "  // Disable the input element since further picks are not allowed.\n",
              "  inputElement.disabled = true;\n",
              "\n",
              "  if (!files) {\n",
              "    return {\n",
              "      response: {\n",
              "        action: 'complete',\n",
              "      }\n",
              "    };\n",
              "  }\n",
              "\n",
              "  for (const file of files) {\n",
              "    const li = document.createElement('li');\n",
              "    li.append(span(file.name, {fontWeight: 'bold'}));\n",
              "    li.append(span(\n",
              "        `(${file.type || 'n/a'}) - ${file.size} bytes, ` +\n",
              "        `last modified: ${\n",
              "            file.lastModifiedDate ? file.lastModifiedDate.toLocaleDateString() :\n",
              "                                    'n/a'} - `));\n",
              "    const percent = span('0% done');\n",
              "    li.appendChild(percent);\n",
              "\n",
              "    outputElement.appendChild(li);\n",
              "\n",
              "    const fileDataPromise = new Promise((resolve) => {\n",
              "      const reader = new FileReader();\n",
              "      reader.onload = (e) => {\n",
              "        resolve(e.target.result);\n",
              "      };\n",
              "      reader.readAsArrayBuffer(file);\n",
              "    });\n",
              "    // Wait for the data to be ready.\n",
              "    let fileData = yield {\n",
              "      promise: fileDataPromise,\n",
              "      response: {\n",
              "        action: 'continue',\n",
              "      }\n",
              "    };\n",
              "\n",
              "    // Use a chunked sending to avoid message size limits. See b/62115660.\n",
              "    let position = 0;\n",
              "    do {\n",
              "      const length = Math.min(fileData.byteLength - position, MAX_PAYLOAD_SIZE);\n",
              "      const chunk = new Uint8Array(fileData, position, length);\n",
              "      position += length;\n",
              "\n",
              "      const base64 = btoa(String.fromCharCode.apply(null, chunk));\n",
              "      yield {\n",
              "        response: {\n",
              "          action: 'append',\n",
              "          file: file.name,\n",
              "          data: base64,\n",
              "        },\n",
              "      };\n",
              "\n",
              "      let percentDone = fileData.byteLength === 0 ?\n",
              "          100 :\n",
              "          Math.round((position / fileData.byteLength) * 100);\n",
              "      percent.textContent = `${percentDone}% done`;\n",
              "\n",
              "    } while (position < fileData.byteLength);\n",
              "  }\n",
              "\n",
              "  // All done.\n",
              "  yield {\n",
              "    response: {\n",
              "      action: 'complete',\n",
              "    }\n",
              "  };\n",
              "}\n",
              "\n",
              "scope.google = scope.google || {};\n",
              "scope.google.colab = scope.google.colab || {};\n",
              "scope.google.colab._files = {\n",
              "  _uploadFiles,\n",
              "  _uploadFilesContinue,\n",
              "};\n",
              "})(self);\n",
              "</script> "
            ]
          },
          "metadata": {}
        },
        {
          "output_type": "stream",
          "name": "stdout",
          "text": [
            "Saving Ficha_Técnica_Dolphin_Mini_16_Jul_25.pdf to Ficha_Técnica_Dolphin_Mini_16_Jul_25.pdf\n"
          ]
        }
      ]
    },
    {
      "cell_type": "markdown",
      "source": [
        "#Instalando o pdfplumber"
      ],
      "metadata": {
        "id": "0W2u78FXErQh"
      }
    },
    {
      "cell_type": "code",
      "source": [
        "!pip install pdfplumber"
      ],
      "metadata": {
        "colab": {
          "base_uri": "https://localhost:8080/"
        },
        "id": "Ko5k4U_jEyuw",
        "outputId": "ffd75547-9b46-4ad3-eafd-cace4e32474e"
      },
      "execution_count": 8,
      "outputs": [
        {
          "output_type": "stream",
          "name": "stdout",
          "text": [
            "Collecting pdfplumber\n",
            "  Downloading pdfplumber-0.11.7-py3-none-any.whl.metadata (42 kB)\n",
            "\u001b[?25l     \u001b[90m━━━━━━━━━━━━━━━━━━━━━━━━━━━━━━━━━━━━━━━━\u001b[0m \u001b[32m0.0/42.8 kB\u001b[0m \u001b[31m?\u001b[0m eta \u001b[36m-:--:--\u001b[0m\r\u001b[2K     \u001b[90m━━━━━━━━━━━━━━━━━━━━━━━━━━━━━━━━━━━━━━━━\u001b[0m \u001b[32m42.8/42.8 kB\u001b[0m \u001b[31m1.7 MB/s\u001b[0m eta \u001b[36m0:00:00\u001b[0m\n",
            "\u001b[?25hCollecting pdfminer.six==20250506 (from pdfplumber)\n",
            "  Downloading pdfminer_six-20250506-py3-none-any.whl.metadata (4.2 kB)\n",
            "Requirement already satisfied: Pillow>=9.1 in /usr/local/lib/python3.11/dist-packages (from pdfplumber) (11.2.1)\n",
            "Collecting pypdfium2>=4.18.0 (from pdfplumber)\n",
            "  Downloading pypdfium2-4.30.1-py3-none-manylinux_2_17_x86_64.manylinux2014_x86_64.whl.metadata (48 kB)\n",
            "\u001b[2K     \u001b[90m━━━━━━━━━━━━━━━━━━━━━━━━━━━━━━━━━━━━━━━━\u001b[0m \u001b[32m48.2/48.2 kB\u001b[0m \u001b[31m3.0 MB/s\u001b[0m eta \u001b[36m0:00:00\u001b[0m\n",
            "\u001b[?25hRequirement already satisfied: charset-normalizer>=2.0.0 in /usr/local/lib/python3.11/dist-packages (from pdfminer.six==20250506->pdfplumber) (3.4.2)\n",
            "Requirement already satisfied: cryptography>=36.0.0 in /usr/local/lib/python3.11/dist-packages (from pdfminer.six==20250506->pdfplumber) (43.0.3)\n",
            "Requirement already satisfied: cffi>=1.12 in /usr/local/lib/python3.11/dist-packages (from cryptography>=36.0.0->pdfminer.six==20250506->pdfplumber) (1.17.1)\n",
            "Requirement already satisfied: pycparser in /usr/local/lib/python3.11/dist-packages (from cffi>=1.12->cryptography>=36.0.0->pdfminer.six==20250506->pdfplumber) (2.22)\n",
            "Downloading pdfplumber-0.11.7-py3-none-any.whl (60 kB)\n",
            "\u001b[2K   \u001b[90m━━━━━━━━━━━━━━━━━━━━━━━━━━━━━━━━━━━━━━━━\u001b[0m \u001b[32m60.0/60.0 kB\u001b[0m \u001b[31m4.2 MB/s\u001b[0m eta \u001b[36m0:00:00\u001b[0m\n",
            "\u001b[?25hDownloading pdfminer_six-20250506-py3-none-any.whl (5.6 MB)\n",
            "\u001b[2K   \u001b[90m━━━━━━━━━━━━━━━━━━━━━━━━━━━━━━━━━━━━━━━━\u001b[0m \u001b[32m5.6/5.6 MB\u001b[0m \u001b[31m59.3 MB/s\u001b[0m eta \u001b[36m0:00:00\u001b[0m\n",
            "\u001b[?25hDownloading pypdfium2-4.30.1-py3-none-manylinux_2_17_x86_64.manylinux2014_x86_64.whl (2.9 MB)\n",
            "\u001b[2K   \u001b[90m━━━━━━━━━━━━━━━━━━━━━━━━━━━━━━━━━━━━━━━━\u001b[0m \u001b[32m2.9/2.9 MB\u001b[0m \u001b[31m69.8 MB/s\u001b[0m eta \u001b[36m0:00:00\u001b[0m\n",
            "\u001b[?25hInstalling collected packages: pypdfium2, pdfminer.six, pdfplumber\n",
            "Successfully installed pdfminer.six-20250506 pdfplumber-0.11.7 pypdfium2-4.30.1\n"
          ]
        }
      ]
    },
    {
      "cell_type": "markdown",
      "source": [
        "#Lendo o arquivo com pdfplumber"
      ],
      "metadata": {
        "id": "AEMIaUwEEijZ"
      }
    },
    {
      "cell_type": "code",
      "source": [
        "import pdfplumber\n",
        "\n",
        "with pdfplumber.open(\"Ficha_Técnica_Dolphin_Mini_16_Jul_25.pdf\") as pdf:\n",
        "    for page in pdf.pages:\n",
        "        texto = page.extract_text()\n",
        "        print(texto)"
      ],
      "metadata": {
        "colab": {
          "base_uri": "https://localhost:8080/"
        },
        "id": "DeFDDDxoEnxh",
        "outputId": "adc2909b-5b6f-46dd-a912-cb9af65e913c"
      },
      "execution_count": 9,
      "outputs": [
        {
          "output_type": "stream",
          "name": "stdout",
          "text": [
            "(cid:31)(cid:30)(cid:30)(cid:29)(cid:28)(cid:27)(cid:26)(cid:25)(cid:24)(cid:23)(cid:22)(cid:21)(cid:20)(cid:19)(cid:28)(cid:21)(cid:20)(cid:18)(cid:28)(cid:21)(cid:17)(cid:23)(cid:23)(cid:27)(cid:16)(cid:17)(cid:18)(cid:27)(cid:15)(cid:24)(cid:20)(cid:28)(cid:14)(cid:13)(cid:21)(cid:22)(cid:26)\n",
            "(cid:2)(cid:6)(cid:24)(cid:20)(cid:15)(cid:20)(cid:18)(cid:22)(cid:17)(cid:28)(cid:1)(cid:15)(cid:18)(cid:27)(cid:24)(cid:23)(cid:20)(cid:28)(cid:7)(cid:27)(cid:28)(cid:127)(cid:129)(cid:30)(cid:28)(cid:141)(cid:18)\n",
            "(cid:12)(cid:11)(cid:18)(cid:27)(cid:23)(cid:17)(cid:28)(cid:10)(cid:9)(cid:30)(cid:8)\n",
            "(cid:12)(cid:17)(cid:23)(cid:23)(cid:27)(cid:16)(cid:17)(cid:7)(cid:20)(cid:23)(cid:28)(cid:7)(cid:27)(cid:28)(cid:21)(cid:27)(cid:26)(cid:6)(cid:26)(cid:17)(cid:23)(cid:28)(cid:5)(cid:20)(cid:23)(cid:28)(cid:22)(cid:15)(cid:7)(cid:6)(cid:4)(cid:3)(cid:20)\n",
            "ESPECIFICAÇÕES E CONFIGURAÇÕES\n",
            "(cid:143)(cid:17)(cid:23)(cid:11)(cid:18)(cid:27)(cid:24)(cid:23)(cid:20)(cid:144)(cid:28)(cid:157)(cid:13)(cid:144)(cid:22)(cid:21)(cid:20)(cid:144)\n",
            "Comprimento (mm) 3.780\n",
            "Largura (mm) 1.715\n",
            "Altura (mm) 1.580\n",
            "Entre-eixos (mm) 2.500\n",
            "Bitola dianteira/traseira (mm) 1.500/1.500\n",
            "Altura mínima do solo (mm) 110\n",
            "Raio de giro (m) 4,95\n",
            "Peso em ordem de marcha (kg) 1.245\n",
            "Peso bruto total (kg) 1.665\n",
            "Pneus 175/55 R16\n",
            "Volume de carga do porta-malas (l) 230\n",
            "Suspensão dianteira McPherson\n",
            "Suspensão traseira Eixo de torção\n",
            "Freio dianteiro Discos ventilados\n",
            "Freio traseiro Discos sólidos\n",
            "(cid:143)(cid:27)(cid:23)(cid:14)(cid:20)(cid:23)(cid:18)(cid:17)(cid:15)(cid:21)(cid:27)\n",
            "Tração FWD\n",
            "Potência 75 cv\n",
            "Torque máximo (Nm) 135\n",
            "Aceleração de 0 a 100 (s) 14,9\n",
            "Velocidade máxima (km/h) 130\n",
            "Autonomia (PBEV) 280 km\n",
            "(cid:157)(cid:17)(cid:24)(cid:27)(cid:23)(cid:22)(cid:17)\n",
            "Tipo de bateria Blade (LFP)\n",
            "Capacidade da bateria (kWh) 38\n",
            "Tempo de recarga (30% a 80%) DC 30 minutos\n",
            "(cid:24)(cid:27)(cid:23)(cid:22)(cid:20)(cid:23)\n",
            "Limpador de para-brisa dianteiro tipo “flat-blade”\n",
            "Porta traseira com destravamento elétrico\n",
            "Rodas de liga de alumínio de 16 polegadas\n",
            "Faróis de LED com ajuste de altura\n",
            "Lanterna de neblina traseira\n",
            "Faróis automáticos\n",
            "Farol \"Follow Me Home\" com atraso\n",
            "avançado para abrir e desligar\n",
            "Luz de rodagem diurna (DRL) de LED\n",
            "Lanterna traseira de LED\n",
            "Luz de freio (brake light) de LED\n",
            "Para-brisa traseiro com função de\n",
            "aquecimento, desembaçamento e degelo\n",
            "Vidro elétrico do motorista com função one touch\n",
            "para subida e descida e função antiesmagamento\n",
            "Espelhos retrovisores externos com ajuste elétrico,\n",
            "desembaçador com aquecimento e rebatimento manual\n",
            "Interior\n",
            "Volante multifuncional\n",
            "Painel de instrumentos LCD de alta resolução 7\"\n",
            "Carregamento de smartphone sem fio\n",
            "Para-sol do motorista e do passageiro\n",
            "dianteiro com espelho e iluminação\n",
            "Espelho retrovisor manual antiofuscante\n",
            "Apoio de braço central dianteiro\n",
            "Tomada 12V\n",
            "2 entradas USB dianteiras (1 Tipo A e 1 Tipo C)\n",
            "Bancos com revestimento de material premium\n",
            "Ajuste elétrico do banco do motorista (6 posições)\n",
            "Ajuste manual do banco do passageiro dianteiro (4 posições)\n",
            "Banco traseiro reclinável\n",
            "Sistema ISOFIX de fixação de cadeira infantil\n",
            "€(cid:6)(cid:26)(cid:24)(cid:22)(cid:18)‚(cid:7)(cid:22)(cid:17)\n",
            "ICS (Intelligent Cockpit System) com tela\n",
            "flutuante de 10.1\" e rotação elétrica\n",
            "4 alto-falantes\n",
            "Rádio FM & AM\n",
            "Sistema de controle de voz inteligente\n",
            "CarPlay\n",
            "Android Auto\n",
            "Spotify\n",
            "Atualização remota OTA\n",
            "Serviço de armazenamento em nuvem BYD\n",
            "Conexão de rede 4G\n",
            "(cid:2)(cid:23)ƒ(cid:21)(cid:20)(cid:15)(cid:7)(cid:22)(cid:21)(cid:22)(cid:20)(cid:15)(cid:17)(cid:7)(cid:20)\n",
            "Ar-condicionado automático\n",
            "New Energy\n",
            "DC Charging Port - CCS 2 - 40 kw\n",
            "AC Charging Port - Tipo 2 - 6,6 kw\n",
            "Sistema de reserva de carregamento\n",
            "Função de descarga AC padrão\n",
            "(veículo para carga/V2L)\n",
            "„(cid:23)(cid:27)(cid:22)(cid:20)(cid:144)(cid:28)(cid:27)(cid:28) (cid:144)(cid:24)(cid:17)(cid:21)(cid:22)(cid:20)(cid:15)(cid:17)(cid:18)(cid:27)(cid:15)(cid:24)(cid:20)\n",
            "Freio de Estacionamento Eletrônico (EPB)\n",
            "Auto-Hold (AVH)\n",
            "…(cid:27)(cid:16)(cid:6)(cid:23)(cid:17)(cid:15)(cid:4)(cid:17)(cid:28)(cid:27)(cid:28)(cid:12)(cid:20)(cid:15)(cid:14)(cid:20)(cid:23)(cid:24)(cid:20)\n",
            "Chave presencial\n",
            "Assistente de frenagem hidráulico (HBA)\n",
            "Desaceleração controlada para\n",
            "freio de estacionamento (CDP)\n",
            "Sistema de controle de tração (TCS)\n",
            "Controle de dinâmica do veículo（ VDC)\n",
            "Freio eletrônico – distribuição de força（ EBD)\n",
            "Assistente de partida em subida (HHC)\n",
            "Frenagem confortável (CST)\n",
            "Freios regenerativos cooperativos inteligentes\n",
            "Controle de cruzeiro (CC)\n",
            "Sensores de estacionamento traseiros (3)\n",
            "Sistema de monitoramento direto\n",
            "da pressão dos pneus (TPMS)\n",
            "2 airbags dianteiros (motorista e passageiro)\n",
            "2 airbags laterais (bancos dianteiros)\n",
            "2 airbags de cortina (dianteiro e traseiro)\n",
            "Cintos de segurança com limitadores\n",
            "de força pré-tensionados\n",
            "Lembrete do uso de cinto de segurança (todos os assentos)\n",
            "Modo de condução em terrenos de baixa aderência\n",
            "Modos de condução Sport e Eco\n",
            "Modo de condução normal\n",
            "Direção elétrica\n",
            "Volante com ajuste manual de altura e profundidade\n",
            "*Especificações sujeitas a alteração sem aviso prévio.\n",
            "A gama real é influenciada por muitos fatores, tais como condução individual, estilo, carga, trânsito etc.\n",
            "O intervalo declarado é estimado apenas para referência.\n",
            "Bluetooth® é uma marca registada da Bluetooth SIG, Inc. Compatibilidade e funcionalidade variam conforme o dispositivo.\n",
            "OPÇÕES DE\n",
            "CORES\n",
            "AZUL CLARO\n",
            "SPROUT GREEN\n",
            "AZUL ESCURO\n",
            "POLAR NIGHT BLACK\n",
            "AZUL\n",
            "BLUE\n",
            "AZUL ESCURO ROSA\n",
            "APRICITY WHITE\n",
            "Desacelere, seu bem maior é a vida.\n"
          ]
        }
      ]
    }
  ]
}